{
 "cells": [
  {
   "cell_type": "code",
   "execution_count": 1,
   "metadata": {},
   "outputs": [
    {
     "name": "stdout",
     "output_type": "stream",
     "text": [
      "grid[index_from_coordinates(column + -1, row + -1, level + -1, length, width, heighth)] + grid[index_from_coordinates(column + -1, row + -1, level + 1, length, width, heighth)] + grid[index_from_coordinates(column + -1, row + 1, level + -1, length, width, heighth)] + grid[index_from_coordinates(column + -1, row + 1, level + 1, length, width, heighth)] + grid[index_from_coordinates(column + 1, row + -1, level + -1, length, width, heighth)] + grid[index_from_coordinates(column + 1, row + -1, level + 1, length, width, heighth)] + grid[index_from_coordinates(column + 1, row + 1, level + -1, length, width, heighth)] + grid[index_from_coordinates(column + 1, row + 1, level + 1, length, width, heighth)] + "
     ]
    }
   ],
   "source": [
    "for i in [-1, 1]:\n",
    "    for j in [-1, 1]:\n",
    "        for k in [-1, 1]:\n",
    "            if (i != 0 or j != 0 or k != 0):\n",
    "                print(f\"grid[index_from_coordinates(column + {i}, row + {j}, level + {k}, length, width, heighth)] + \", end='')"
   ]
  },
  {
   "cell_type": "code",
   "execution_count": 8,
   "metadata": {},
   "outputs": [],
   "source": [
    "import random\n",
    "\n",
    "length = 20\n",
    "width = 20\n",
    "heighth = 20\n",
    "\n",
    "state = [[[0] * heighth for i in range(width)] for j in range(length)]\n",
    "\n",
    "for i in range(length):\n",
    "    for j in range(width):\n",
    "        for k in range(heighth):\n",
    "            if random.random() > 0.7:\n",
    "                state[i][j][k] = 1\n",
    "                \n",
    "file = open('test1.in', 'w')\n",
    "\n",
    "file.write(f\"{length} {width} {heighth} 1\\n\")\n",
    "for i in range(length):\n",
    "    for j in range(width):\n",
    "        for k in range(heighth):\n",
    "            if state[i][j][k] != 0:\n",
    "                file.write(f\"{state[i][j][k]} {i} {j} {k}\\n\")\n",
    "file.write(\"0 0 0 0\")\n",
    "file.close()"
   ]
  },
  {
   "cell_type": "code",
   "execution_count": null,
   "metadata": {},
   "outputs": [],
   "source": []
  }
 ],
 "metadata": {
  "kernelspec": {
   "display_name": "Python 3",
   "language": "python",
   "name": "python3"
  },
  "language_info": {
   "codemirror_mode": {
    "name": "ipython",
    "version": 3
   },
   "file_extension": ".py",
   "mimetype": "text/x-python",
   "name": "python",
   "nbconvert_exporter": "python",
   "pygments_lexer": "ipython3",
   "version": "3.8.5"
  }
 },
 "nbformat": 4,
 "nbformat_minor": 4
}
